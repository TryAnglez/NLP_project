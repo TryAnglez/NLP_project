{
 "cells": [
  {
   "cell_type": "code",
   "execution_count": 1,
   "metadata": {},
   "outputs": [],
   "source": [
    "import numpy as np\n",
    "import pandas as pd\n",
    "from numpy import dot\n",
    "from numpy.linalg import norm\n",
    "import urllib.request\n",
    "from sentence_transformers import SentenceTransformer\n",
    "from sklearn.metrics.pairwise import cosine_similarity\n",
    "import streamlit as st\n",
    "\n",
    "train_data = pd.read_csv('/Users/dhl/Desktop/BChat/final/bitamin_data.csv')\n",
    "\n",
    "model = SentenceTransformer('sentence-transformers/xlm-r-100langs-bert-base-nli-stsb-mean-tokens')\n",
    "train_data['embedding'] = train_data.apply(lambda row: model.encode(row.Q), axis = 1)\n",
    "\n",
    "def make_label2_Q(row):\n",
    "    if row['label'] == 2:\n",
    "        return row['Q'].replace(\" \",\"\").split(',') #코드 수정되면 replace제거\n",
    "    else:\n",
    "        return 0\n",
    "\n",
    "train_data['label2_Q'] = train_data.apply(lambda row: make_label2_Q(row), axis=1)\n",
    "\n",
    "train_data.to_pickle('embedding_vector.pkl')"
   ]
  },
  {
   "cell_type": "code",
   "execution_count": 2,
   "metadata": {},
   "outputs": [
    {
     "data": {
      "text/html": [
       "<div>\n",
       "<style scoped>\n",
       "    .dataframe tbody tr th:only-of-type {\n",
       "        vertical-align: middle;\n",
       "    }\n",
       "\n",
       "    .dataframe tbody tr th {\n",
       "        vertical-align: top;\n",
       "    }\n",
       "\n",
       "    .dataframe thead th {\n",
       "        text-align: right;\n",
       "    }\n",
       "</style>\n",
       "<table border=\"1\" class=\"dataframe\">\n",
       "  <thead>\n",
       "    <tr style=\"text-align: right;\">\n",
       "      <th></th>\n",
       "      <th>Q</th>\n",
       "      <th>A</th>\n",
       "      <th>label</th>\n",
       "      <th>embedding</th>\n",
       "    </tr>\n",
       "  </thead>\n",
       "  <tbody>\n",
       "    <tr>\n",
       "      <th>0</th>\n",
       "      <td>비타민에 대해서 소개해 줘</td>\n",
       "      <td>BITAmin은 대학(원)생의 연합 동아리로, 빅데이터 분석과 머신러닝/딥러닝에 관...</td>\n",
       "      <td>1</td>\n",
       "      <td>[0.096936606, 0.03571472, 0.9547354, -0.170667...</td>\n",
       "    </tr>\n",
       "    <tr>\n",
       "      <th>1</th>\n",
       "      <td>비타민은 어떤 동아리인가요?</td>\n",
       "      <td>BITAmin은 연합 빅데이터 분석 동아리로, 빅데이터와 인공지능에 관심 많은 학생...</td>\n",
       "      <td>1</td>\n",
       "      <td>[-0.1972661, 0.105636805, 0.19013248, -0.81339...</td>\n",
       "    </tr>\n",
       "    <tr>\n",
       "      <th>2</th>\n",
       "      <td>비타민 신입기수 모집 기간은 언제인가요?</td>\n",
       "      <td>BITAmin은 크게 운영진과 멤버로 나누어집니다. 12기 모집과 같은 경우에, 운...</td>\n",
       "      <td>1</td>\n",
       "      <td>[-0.117523074, 0.08731337, 0.67899823, -0.6861...</td>\n",
       "    </tr>\n",
       "    <tr>\n",
       "      <th>3</th>\n",
       "      <td>코딩테스트 많이 어렵나요?</td>\n",
       "      <td>코딩 테스트는 Python 언어로 구성되어있으며, BITAmin은 빅데이터 분석 동...</td>\n",
       "      <td>1</td>\n",
       "      <td>[0.14435652, -0.45722085, -0.95064414, 0.55102...</td>\n",
       "    </tr>\n",
       "    <tr>\n",
       "      <th>4</th>\n",
       "      <td>코딩 테스트 볼 때 구글링 가능한가요?</td>\n",
       "      <td>코딩 테스트 보실 때, 구글링은 허용되지만 ChatGPT 사용은 불가합니다.</td>\n",
       "      <td>1</td>\n",
       "      <td>[-0.2757351, -0.19587953, -0.5125405, 0.340336...</td>\n",
       "    </tr>\n",
       "  </tbody>\n",
       "</table>\n",
       "</div>"
      ],
      "text/plain": [
       "                        Q                                                  A  \\\n",
       "0          비타민에 대해서 소개해 줘  BITAmin은 대학(원)생의 연합 동아리로, 빅데이터 분석과 머신러닝/딥러닝에 관...   \n",
       "1         비타민은 어떤 동아리인가요?  BITAmin은 연합 빅데이터 분석 동아리로, 빅데이터와 인공지능에 관심 많은 학생...   \n",
       "2  비타민 신입기수 모집 기간은 언제인가요?  BITAmin은 크게 운영진과 멤버로 나누어집니다. 12기 모집과 같은 경우에, 운...   \n",
       "3          코딩테스트 많이 어렵나요?  코딩 테스트는 Python 언어로 구성되어있으며, BITAmin은 빅데이터 분석 동...   \n",
       "4   코딩 테스트 볼 때 구글링 가능한가요?         코딩 테스트 보실 때, 구글링은 허용되지만 ChatGPT 사용은 불가합니다.   \n",
       "\n",
       "   label                                          embedding  \n",
       "0      1  [0.096936606, 0.03571472, 0.9547354, -0.170667...  \n",
       "1      1  [-0.1972661, 0.105636805, 0.19013248, -0.81339...  \n",
       "2      1  [-0.117523074, 0.08731337, 0.67899823, -0.6861...  \n",
       "3      1  [0.14435652, -0.45722085, -0.95064414, 0.55102...  \n",
       "4      1  [-0.2757351, -0.19587953, -0.5125405, 0.340336...  "
      ]
     },
     "execution_count": 2,
     "metadata": {},
     "output_type": "execute_result"
    }
   ],
   "source": [
    "train_data.head()"
   ]
  },
  {
   "cell_type": "code",
   "execution_count": null,
   "metadata": {},
   "outputs": [],
   "source": []
  }
 ],
 "metadata": {
  "kernelspec": {
   "display_name": "Python 3",
   "language": "python",
   "name": "python3"
  },
  "language_info": {
   "codemirror_mode": {
    "name": "ipython",
    "version": 3
   },
   "file_extension": ".py",
   "mimetype": "text/x-python",
   "name": "python",
   "nbconvert_exporter": "python",
   "pygments_lexer": "ipython3",
   "version": "3.11.4"
  },
  "orig_nbformat": 4
 },
 "nbformat": 4,
 "nbformat_minor": 2
}
